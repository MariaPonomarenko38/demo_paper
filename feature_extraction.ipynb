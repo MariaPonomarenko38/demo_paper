{
 "cells": [
  {
   "cell_type": "code",
   "execution_count": 4,
   "metadata": {},
   "outputs": [],
   "source": [
    "import pandas as pd\n",
    "import numpy as np\n",
    "from nltk.corpus import stopwords\n",
    "from nltk.stem.snowball import SnowballStemmer\n",
    "#from utils.text_cleaning import *"
   ]
  },
  {
   "cell_type": "markdown",
   "metadata": {},
   "source": [
    "<h3> Text preprocessing </h3>"
   ]
  },
  {
   "cell_type": "code",
   "execution_count": 35,
   "metadata": {},
   "outputs": [],
   "source": [
    "arxiv_papers = pd.read_csv('data/arxiv_data.csv')"
   ]
  },
  {
   "cell_type": "code",
   "execution_count": 36,
   "metadata": {},
   "outputs": [
    {
     "data": {
      "text/html": [
       "<div>\n",
       "<style scoped>\n",
       "    .dataframe tbody tr th:only-of-type {\n",
       "        vertical-align: middle;\n",
       "    }\n",
       "\n",
       "    .dataframe tbody tr th {\n",
       "        vertical-align: top;\n",
       "    }\n",
       "\n",
       "    .dataframe thead th {\n",
       "        text-align: right;\n",
       "    }\n",
       "</style>\n",
       "<table border=\"1\" class=\"dataframe\">\n",
       "  <thead>\n",
       "    <tr style=\"text-align: right;\">\n",
       "      <th></th>\n",
       "      <th>titles</th>\n",
       "      <th>summaries</th>\n",
       "      <th>terms</th>\n",
       "    </tr>\n",
       "  </thead>\n",
       "  <tbody>\n",
       "    <tr>\n",
       "      <th>0</th>\n",
       "      <td>Survey on Semantic Stereo Matching / Semantic ...</td>\n",
       "      <td>Stereo matching is one of the widely used tech...</td>\n",
       "      <td>['cs.CV', 'cs.LG']</td>\n",
       "    </tr>\n",
       "    <tr>\n",
       "      <th>1</th>\n",
       "      <td>FUTURE-AI: Guiding Principles and Consensus Re...</td>\n",
       "      <td>The recent advancements in artificial intellig...</td>\n",
       "      <td>['cs.CV', 'cs.AI', 'cs.LG']</td>\n",
       "    </tr>\n",
       "    <tr>\n",
       "      <th>2</th>\n",
       "      <td>Enforcing Mutual Consistency of Hard Regions f...</td>\n",
       "      <td>In this paper, we proposed a novel mutual cons...</td>\n",
       "      <td>['cs.CV', 'cs.AI']</td>\n",
       "    </tr>\n",
       "    <tr>\n",
       "      <th>3</th>\n",
       "      <td>Parameter Decoupling Strategy for Semi-supervi...</td>\n",
       "      <td>Consistency training has proven to be an advan...</td>\n",
       "      <td>['cs.CV']</td>\n",
       "    </tr>\n",
       "    <tr>\n",
       "      <th>4</th>\n",
       "      <td>Background-Foreground Segmentation for Interio...</td>\n",
       "      <td>To ensure safety in automated driving, the cor...</td>\n",
       "      <td>['cs.CV', 'cs.LG']</td>\n",
       "    </tr>\n",
       "    <tr>\n",
       "      <th>...</th>\n",
       "      <td>...</td>\n",
       "      <td>...</td>\n",
       "      <td>...</td>\n",
       "    </tr>\n",
       "    <tr>\n",
       "      <th>51769</th>\n",
       "      <td>Hierarchically-coupled hidden Markov models fo...</td>\n",
       "      <td>We address the problem of analyzing sets of no...</td>\n",
       "      <td>['stat.ML', 'physics.bio-ph', 'q-bio.QM']</td>\n",
       "    </tr>\n",
       "    <tr>\n",
       "      <th>51770</th>\n",
       "      <td>Blinking Molecule Tracking</td>\n",
       "      <td>We discuss a method for tracking individual mo...</td>\n",
       "      <td>['cs.CV', 'cs.DM']</td>\n",
       "    </tr>\n",
       "    <tr>\n",
       "      <th>51771</th>\n",
       "      <td>Towards a Mathematical Foundation of Immunolog...</td>\n",
       "      <td>We attempt to set a mathematical foundation of...</td>\n",
       "      <td>['stat.ML', 'cs.LG', 'q-bio.GN']</td>\n",
       "    </tr>\n",
       "    <tr>\n",
       "      <th>51772</th>\n",
       "      <td>A Semi-Automatic Graph-Based Approach for Dete...</td>\n",
       "      <td>Diffusion Tensor Imaging (DTI) allows estimati...</td>\n",
       "      <td>['cs.CV']</td>\n",
       "    </tr>\n",
       "    <tr>\n",
       "      <th>51773</th>\n",
       "      <td>SparseCodePicking: feature extraction in mass ...</td>\n",
       "      <td>Mass spectrometry (MS) is an important techniq...</td>\n",
       "      <td>['stat.ML', 'physics.med-ph', 'stat.AP', 'stat...</td>\n",
       "    </tr>\n",
       "  </tbody>\n",
       "</table>\n",
       "<p>51774 rows × 3 columns</p>\n",
       "</div>"
      ],
      "text/plain": [
       "                                                  titles  \\\n",
       "0      Survey on Semantic Stereo Matching / Semantic ...   \n",
       "1      FUTURE-AI: Guiding Principles and Consensus Re...   \n",
       "2      Enforcing Mutual Consistency of Hard Regions f...   \n",
       "3      Parameter Decoupling Strategy for Semi-supervi...   \n",
       "4      Background-Foreground Segmentation for Interio...   \n",
       "...                                                  ...   \n",
       "51769  Hierarchically-coupled hidden Markov models fo...   \n",
       "51770                         Blinking Molecule Tracking   \n",
       "51771  Towards a Mathematical Foundation of Immunolog...   \n",
       "51772  A Semi-Automatic Graph-Based Approach for Dete...   \n",
       "51773  SparseCodePicking: feature extraction in mass ...   \n",
       "\n",
       "                                               summaries  \\\n",
       "0      Stereo matching is one of the widely used tech...   \n",
       "1      The recent advancements in artificial intellig...   \n",
       "2      In this paper, we proposed a novel mutual cons...   \n",
       "3      Consistency training has proven to be an advan...   \n",
       "4      To ensure safety in automated driving, the cor...   \n",
       "...                                                  ...   \n",
       "51769  We address the problem of analyzing sets of no...   \n",
       "51770  We discuss a method for tracking individual mo...   \n",
       "51771  We attempt to set a mathematical foundation of...   \n",
       "51772  Diffusion Tensor Imaging (DTI) allows estimati...   \n",
       "51773  Mass spectrometry (MS) is an important techniq...   \n",
       "\n",
       "                                                   terms  \n",
       "0                                     ['cs.CV', 'cs.LG']  \n",
       "1                            ['cs.CV', 'cs.AI', 'cs.LG']  \n",
       "2                                     ['cs.CV', 'cs.AI']  \n",
       "3                                              ['cs.CV']  \n",
       "4                                     ['cs.CV', 'cs.LG']  \n",
       "...                                                  ...  \n",
       "51769          ['stat.ML', 'physics.bio-ph', 'q-bio.QM']  \n",
       "51770                                 ['cs.CV', 'cs.DM']  \n",
       "51771                   ['stat.ML', 'cs.LG', 'q-bio.GN']  \n",
       "51772                                          ['cs.CV']  \n",
       "51773  ['stat.ML', 'physics.med-ph', 'stat.AP', 'stat...  \n",
       "\n",
       "[51774 rows x 3 columns]"
      ]
     },
     "execution_count": 36,
     "metadata": {},
     "output_type": "execute_result"
    }
   ],
   "source": [
    "arxiv_papers"
   ]
  },
  {
   "cell_type": "code",
   "execution_count": 37,
   "metadata": {},
   "outputs": [],
   "source": [
    "arxiv_papers = arxiv_papers[:1000]"
   ]
  },
  {
   "cell_type": "code",
   "execution_count": 38,
   "metadata": {},
   "outputs": [],
   "source": [
    "from nltk.corpus import stopwords\n",
    "from nltk.stem.snowball import SnowballStemmer\n",
    "import re\n",
    "\n",
    "stop_words = set(stopwords.words('english'))\n",
    "\n",
    "def remove_stopwords(text):\n",
    "    no_stopword_text = [w for w in text.split() if w not in stop_words]\n",
    "    return ' '.join(no_stopword_text)\n",
    "\n",
    "def clean_text(text):\n",
    "    text = text.lower()\n",
    "    text = re.sub(\"[^a-zA-Z]\",\" \",text) \n",
    "    text = ' '.join(text.split()) \n",
    "    return text"
   ]
  },
  {
   "cell_type": "code",
   "execution_count": 39,
   "metadata": {},
   "outputs": [],
   "source": [
    "from nltk.tag import StanfordPOSTagger\n",
    "\n",
    "jar = 'stanford-postagger.jar'\n",
    "model = 'english-left3words-distsim.tagger'\n",
    "\n",
    "stg = StanfordPOSTagger(path_to_jar=jar, model_filename=model)"
   ]
  },
  {
   "cell_type": "code",
   "execution_count": 40,
   "metadata": {},
   "outputs": [],
   "source": [
    "from nltk.corpus.reader.wordnet import VERB, NOUN, ADJ, ADV\n",
    "dict_pos_map = {\n",
    "    'NN': NOUN,\n",
    "    'JJ' : ADJ  \n",
    "}"
   ]
  },
  {
   "cell_type": "code",
   "execution_count": 41,
   "metadata": {},
   "outputs": [],
   "source": [
    "from nltk import WordNetLemmatizer\n",
    "\n",
    "lm = WordNetLemmatizer()\n",
    "adjectives = []\n",
    "def lemmatizer_on_text(data):    \n",
    "    data = stg.tag(data) \n",
    "    text = []\n",
    "    for i in range(len(data)):\n",
    "        if data[i][1] == 'JJ':\n",
    "            adjectives.append(data[i][0])\n",
    "        if dict_pos_map.get(data[i][1][:2]) != None:\n",
    "                text.append(lm.lemmatize(data[i][0], dict_pos_map[data[i][1][:2]]))\n",
    "    return text"
   ]
  },
  {
   "cell_type": "code",
   "execution_count": 42,
   "metadata": {},
   "outputs": [
    {
     "name": "stderr",
     "output_type": "stream",
     "text": [
      "C:\\Users\\Марія\\AppData\\Local\\Temp\\ipykernel_15124\\2012492338.py:1: SettingWithCopyWarning: \n",
      "A value is trying to be set on a copy of a slice from a DataFrame.\n",
      "Try using .loc[row_indexer,col_indexer] = value instead\n",
      "\n",
      "See the caveats in the documentation: https://pandas.pydata.org/pandas-docs/stable/user_guide/indexing.html#returning-a-view-versus-a-copy\n",
      "  arxiv_papers['summaries'] = arxiv_papers['summaries'].apply(lambda x: clean_text(x))\n",
      "C:\\Users\\Марія\\AppData\\Local\\Temp\\ipykernel_15124\\2012492338.py:2: SettingWithCopyWarning: \n",
      "A value is trying to be set on a copy of a slice from a DataFrame.\n",
      "Try using .loc[row_indexer,col_indexer] = value instead\n",
      "\n",
      "See the caveats in the documentation: https://pandas.pydata.org/pandas-docs/stable/user_guide/indexing.html#returning-a-view-versus-a-copy\n",
      "  arxiv_papers['summaries'] = arxiv_papers['summaries'].apply(lambda x: remove_stopwords(x))\n"
     ]
    }
   ],
   "source": [
    "arxiv_papers['summaries'] = arxiv_papers['summaries'].apply(lambda x: clean_text(x))\n",
    "arxiv_papers['summaries'] = arxiv_papers['summaries'].apply(lambda x: remove_stopwords(x))"
   ]
  },
  {
   "cell_type": "code",
   "execution_count": 43,
   "metadata": {},
   "outputs": [],
   "source": [
    "arxiv_papers_splitted = arxiv_papers['summaries'].apply(lambda x: x.split())"
   ]
  },
  {
   "cell_type": "code",
   "execution_count": 44,
   "metadata": {},
   "outputs": [],
   "source": [
    "from nltk import WordNetLemmatizer\n",
    "\n",
    "lm = WordNetLemmatizer()\n",
    "adjectives = []\n",
    "def lemmatizer_on_text(data):    \n",
    "    data = stg.tag(data) \n",
    "    text = []\n",
    "    for i in range(len(data)):\n",
    "        if data[i][1] == 'JJ':\n",
    "            adjectives.append(data[i][0])\n",
    "        if dict_pos_map.get(data[i][1][:2]) != None:\n",
    "                text.append(lm.lemmatize(data[i][0], dict_pos_map[data[i][1][:2]]))\n",
    "    return text"
   ]
  },
  {
   "cell_type": "code",
   "execution_count": 46,
   "metadata": {},
   "outputs": [],
   "source": [
    "arxiv_papers_lemmatized = arxiv_papers_splitted.apply(lambda x: lemmatizer_on_text(x))"
   ]
  },
  {
   "cell_type": "code",
   "execution_count": 48,
   "metadata": {},
   "outputs": [],
   "source": [
    "arxiv_papers_splitted = arxiv_papers_lemmatized"
   ]
  },
  {
   "cell_type": "code",
   "execution_count": 49,
   "metadata": {},
   "outputs": [
    {
     "name": "stderr",
     "output_type": "stream",
     "text": [
      "C:\\Users\\Марія\\AppData\\Local\\Temp\\ipykernel_15124\\327545699.py:1: SettingWithCopyWarning: \n",
      "A value is trying to be set on a copy of a slice from a DataFrame.\n",
      "Try using .loc[row_indexer,col_indexer] = value instead\n",
      "\n",
      "See the caveats in the documentation: https://pandas.pydata.org/pandas-docs/stable/user_guide/indexing.html#returning-a-view-versus-a-copy\n",
      "  arxiv_papers['summaries'] =  arxiv_papers_splitted.apply(lambda x: \" \".join(x))\n"
     ]
    }
   ],
   "source": [
    "arxiv_papers['summaries'] =  arxiv_papers_splitted.apply(lambda x: \" \".join(x))"
   ]
  },
  {
   "cell_type": "markdown",
   "metadata": {},
   "source": [
    "<h3> TF-IDF </h3>"
   ]
  },
  {
   "cell_type": "code",
   "execution_count": 58,
   "metadata": {},
   "outputs": [],
   "source": [
    "from sklearn.feature_extraction.text import TfidfVectorizer\n",
    "\n",
    "vectorizer = TfidfVectorizer()\n",
    "X_tf_idf = vectorizer.fit_transform(arxiv_papers['summaries'])"
   ]
  },
  {
   "cell_type": "markdown",
   "metadata": {},
   "source": [
    "<h3> Doc2Vec </h3>"
   ]
  },
  {
   "cell_type": "code",
   "execution_count": 47,
   "metadata": {},
   "outputs": [],
   "source": [
    "from gensim.models.doc2vec import Doc2Vec, TaggedDocument\n",
    "tagged_data = [TaggedDocument(d, [i]) for i, d in enumerate(arxiv_papers_splitted)]\n",
    "\n",
    "model = Doc2Vec(tagged_data, vector_size = 700, window = 2, min_count = 1, epochs = 500)"
   ]
  },
  {
   "cell_type": "code",
   "execution_count": 48,
   "metadata": {},
   "outputs": [
    {
     "data": {
      "text/plain": [
       "array([-7.74769634e-02,  3.37024391e-01,  5.65633655e-01,  6.56655312e-01,\n",
       "       -4.67886150e-01, -5.96236169e-01, -5.88204920e-01,  9.02611971e-01,\n",
       "       -3.43572348e-02, -7.07364202e-01, -7.90991247e-01,  7.07045570e-02,\n",
       "       -8.33707035e-01, -2.38735288e-01, -1.01957572e+00, -2.84594983e-01,\n",
       "        5.67390025e-01,  1.47415146e-01, -2.96489447e-01, -2.57845610e-01,\n",
       "       -4.02760431e-02,  1.10185295e-01, -5.20503342e-01, -3.72812927e-01,\n",
       "       -4.22242135e-01, -2.53515810e-01, -2.45146856e-01, -1.28096178e-01,\n",
       "        7.78497458e-01,  6.20649636e-01,  8.09073821e-02, -1.10123253e+00,\n",
       "        1.07910827e-01,  4.49641407e-01,  2.84797460e-01,  1.13173294e+00,\n",
       "        4.99541789e-01, -8.76918912e-01, -6.62268996e-01,  4.75137860e-01,\n",
       "        8.32601547e-01,  8.29318166e-01, -1.09297715e-01,  1.50702894e-01,\n",
       "        1.13387465e+00, -5.09632170e-01,  3.92347038e-01, -5.09224713e-01,\n",
       "       -4.92954589e-02,  1.78278491e-01, -3.70467961e-01, -6.38783038e-01,\n",
       "       -4.99332935e-01, -7.61957169e-02, -6.87145710e-01,  1.75658353e-02,\n",
       "        9.30569232e-01, -8.22767094e-02, -8.55003521e-02, -4.46297638e-02,\n",
       "        1.15720963e+00,  2.88026810e-01, -5.27493417e-01,  1.84611931e-01,\n",
       "        4.50161815e-01,  7.68088877e-01,  9.88308907e-01, -9.22501013e-02,\n",
       "       -7.63521016e-01, -1.23378241e+00, -1.71697199e+00,  1.11673164e+00,\n",
       "        1.80135533e-01,  8.82995903e-01,  2.27848500e-01,  3.24110361e-03,\n",
       "        9.77410257e-01,  7.22802579e-01,  3.66153032e-01, -4.71827358e-01,\n",
       "        2.06606165e-01, -2.73018628e-01, -2.28809834e-01, -3.85734737e-01,\n",
       "        8.11127782e-01, -8.88336658e-01, -3.50432873e-01,  9.68940318e-01,\n",
       "       -1.13918090e+00,  3.53462249e-01,  6.16470873e-01,  4.81061757e-01,\n",
       "       -5.95533252e-01, -2.05477304e-03, -6.30364120e-01, -6.68930173e-01,\n",
       "        3.25308502e-01, -1.25058979e-01,  9.55756783e-01, -1.75216392e-01,\n",
       "       -1.04333818e+00,  4.90130410e-02, -4.07315075e-01, -2.73869187e-01,\n",
       "        1.24694571e-01,  1.64786434e+00, -5.20433068e-01, -2.97527701e-01,\n",
       "        5.23916781e-01,  3.82524610e-01,  5.56821883e-01, -3.64933640e-01,\n",
       "       -2.06935391e-01, -8.76823291e-02, -4.10262406e-01,  8.67114887e-02,\n",
       "       -1.39285013e-01,  6.09753966e-01, -5.71678281e-01, -7.44774580e-01,\n",
       "        4.94580269e-01, -2.10274130e-01, -4.69822675e-01, -3.62535983e-01,\n",
       "       -2.95239717e-01, -9.05754983e-01, -7.86911011e-01, -3.93338144e-01,\n",
       "       -9.99996781e-01, -1.34054482e-01, -4.34708416e-01,  7.67405450e-01,\n",
       "       -1.88790724e-01,  2.74231017e-01, -6.91332400e-01, -7.35604048e-01,\n",
       "        3.41610432e-01,  2.95353889e-01, -3.46435159e-01,  1.23556875e-01,\n",
       "       -4.82817650e-01, -5.62273860e-01,  3.45320702e-01, -5.84601998e-01,\n",
       "        9.18495134e-02,  1.14346437e-01,  3.32014024e-01, -3.62908989e-01,\n",
       "       -3.71250570e-01,  7.78094172e-01,  6.49737239e-01,  4.43219841e-01,\n",
       "       -3.81955624e-01,  7.02884912e-01, -1.57599032e+00, -3.32604237e-02,\n",
       "       -8.45368981e-01, -5.00501454e-01,  9.08661067e-01,  2.07906747e+00,\n",
       "        3.39969516e-01,  2.07030460e-01, -2.82874666e-02,  7.71532178e-01,\n",
       "       -1.00130379e+00, -5.55503011e-01, -4.56796825e-01,  8.48808289e-01,\n",
       "        7.68315792e-01, -3.23898971e-01, -3.34792852e-01, -5.77288151e-01,\n",
       "        1.22835970e+00, -2.24046424e-01, -4.71773565e-01,  8.23132336e-01,\n",
       "        8.74519825e-01,  2.79238820e-01, -9.95189622e-02,  1.45582650e-02,\n",
       "       -5.91363013e-01, -1.18194193e-01,  1.55406117e+00,  5.50779164e-01,\n",
       "        4.14278865e-01,  1.12564099e+00,  7.64664054e-01, -8.48411247e-02,\n",
       "       -1.83953002e-01, -1.13259637e+00, -7.19380438e-01, -1.09337986e+00,\n",
       "        1.03944317e-01, -5.18604636e-01, -1.69643068e+00,  1.37505889e+00,\n",
       "       -6.24444664e-01, -1.31309116e+00,  4.23883826e-01, -1.19703352e+00,\n",
       "        3.52250010e-01, -1.15485060e+00, -9.20865461e-02, -4.57551628e-01,\n",
       "       -9.67677683e-02, -4.16464418e-01, -1.81598499e-01, -9.13854659e-01,\n",
       "       -6.39040649e-01,  6.62804723e-01,  4.22221348e-02,  5.47295272e-01,\n",
       "       -3.73038799e-01,  7.44348168e-01,  1.35873659e-02,  9.45216060e-01,\n",
       "        4.15978998e-01, -1.08251083e+00,  2.25983426e-01, -8.76681924e-01,\n",
       "       -9.07914434e-03,  3.94484371e-01,  5.61997473e-01, -1.08482850e+00,\n",
       "        5.15055954e-01,  1.37222543e-01, -8.00094068e-01, -2.56467491e-01,\n",
       "       -9.84850168e-01,  6.48376465e-01, -4.39232528e-01, -7.96202123e-01,\n",
       "        3.26274335e-01, -6.51491523e-01,  8.65737200e-01, -2.25790352e-01,\n",
       "        2.17130706e-01, -3.95826161e-01, -3.06803644e-01, -5.22928774e-01,\n",
       "        6.32961690e-01, -3.43556345e-01,  3.13709110e-01,  1.24577487e+00,\n",
       "       -3.08966994e-01, -1.11597109e+00, -4.20683801e-01,  2.44117841e-01,\n",
       "        6.83465227e-02, -2.63015013e-02, -1.47615790e-01,  4.58944291e-02,\n",
       "       -8.65728319e-01, -2.50334829e-01,  3.11172932e-01,  1.50712800e+00,\n",
       "        3.16596568e-01, -3.97000819e-01, -9.44536626e-02, -2.19663322e-01,\n",
       "       -4.00627851e-01, -5.54462135e-01, -1.19324124e+00,  8.10147941e-01,\n",
       "        1.11775243e+00,  3.31853509e-01, -3.32482718e-02,  6.06000960e-01,\n",
       "       -5.84190488e-02,  6.48144960e-01, -1.82855636e-01, -1.13984621e+00,\n",
       "        2.86266655e-01,  1.32384348e+00,  2.72600263e-01,  1.66485429e+00,\n",
       "        9.60534632e-01, -3.93537045e-01, -8.71296823e-02,  2.40111232e-01,\n",
       "        5.89009643e-01,  2.87581801e-01, -4.97144699e-01,  1.81053627e+00,\n",
       "        8.95258665e-01,  1.69744158e+00, -4.93731260e-01,  1.94549251e+00,\n",
       "       -4.03455973e-01, -2.55229771e-01, -4.74943638e-01,  6.56352043e-01,\n",
       "        2.15080127e-01, -3.81026983e-01, -1.01527810e-01, -4.32748467e-01,\n",
       "        1.33389577e-01,  5.33048213e-01, -2.57496864e-01, -2.60139197e-01,\n",
       "        2.18738809e-01,  1.59263574e-02,  7.25675523e-01,  5.92675149e-01,\n",
       "        4.21636879e-01,  3.91171396e-01, -1.06573451e+00, -4.85095173e-01,\n",
       "       -1.52280733e-01, -1.85077846e-01,  2.10620618e+00, -4.99491096e-01,\n",
       "        6.39140159e-02, -6.58440828e-01, -2.52144545e-01,  2.76227612e-02,\n",
       "        8.01030397e-01, -2.89534837e-01, -5.17450050e-02, -4.02906626e-01,\n",
       "       -1.32749408e-01,  3.02055120e-01, -7.58343041e-01,  7.55099714e-01,\n",
       "       -1.13967419e-01,  6.70031190e-01,  2.60097027e-01, -2.48924103e-02,\n",
       "       -1.12258291e+00, -5.54909050e-01,  8.59412968e-01, -6.63384080e-01,\n",
       "        2.16562375e-02,  7.26614892e-02,  2.71058649e-01, -2.02197492e-01,\n",
       "       -6.72802985e-01, -8.96541417e-01,  1.31877795e-01,  4.40627098e-01,\n",
       "        6.10289335e-01, -5.36802374e-02,  8.41368828e-03,  6.96910501e-01,\n",
       "       -6.90720379e-01,  4.28911358e-01,  5.52955985e-01, -7.58643925e-01,\n",
       "        3.59850556e-01,  5.95551133e-01,  3.28354716e-01,  6.82055950e-01,\n",
       "       -4.57841039e-01, -8.49993169e-01,  9.86978769e-01,  1.24812162e+00,\n",
       "       -7.05629945e-01, -7.23700404e-01, -9.19720113e-01, -1.55804753e+00,\n",
       "        5.97298384e-01,  2.34047085e-01,  3.47713292e-01,  6.34885430e-02,\n",
       "       -1.97290555e-01, -7.49552190e-01,  5.68814993e-01, -1.21067894e+00,\n",
       "       -6.05459690e-01,  1.45154327e-01,  4.39031631e-01, -9.88424420e-01,\n",
       "        5.54761231e-01,  6.95115149e-01,  1.17286190e-01,  7.57032037e-02,\n",
       "       -3.74205559e-01, -7.02005744e-01, -9.23173875e-03, -8.74081790e-01,\n",
       "        1.09386837e+00,  4.00945395e-02, -7.65102923e-01,  2.11643830e-01,\n",
       "       -4.45466429e-01, -4.94253784e-01,  4.61450994e-01,  7.30251014e-01,\n",
       "        1.06966324e-01,  2.34377444e-01, -5.14523268e-01, -1.02910757e+00,\n",
       "       -1.02781586e-01,  2.73405552e-01, -7.35532939e-01,  5.82047775e-02,\n",
       "        5.59373081e-01, -6.47390723e-01,  7.85895109e-01,  4.13416088e-01,\n",
       "       -1.13668501e+00, -5.41960418e-01,  2.28189185e-01,  9.78110909e-01,\n",
       "       -1.87803537e-01,  2.66276803e-02, -1.03169344e-01,  9.23060358e-01,\n",
       "       -1.25118792e+00,  3.37154537e-01, -1.76075652e-01,  2.24453956e-01,\n",
       "        6.50647521e-01, -1.06206685e-01, -5.05274236e-01, -3.69641542e-01,\n",
       "        1.09684825e+00,  1.44294292e-01, -6.96312904e-01,  1.40217945e-01,\n",
       "       -1.57280695e+00,  7.85190046e-01, -9.28176582e-01, -6.91922009e-01,\n",
       "       -4.42191074e-03, -3.87470335e-01,  8.08298707e-01, -1.41144598e+00,\n",
       "       -1.72415420e-01, -2.25492552e-01, -3.20564717e-01,  5.64756215e-01,\n",
       "        6.79918349e-01, -3.05851877e-01,  1.31171033e-01,  8.07016194e-01,\n",
       "        5.21918178e-01, -9.28747535e-01,  1.79440111e-01, -3.23416084e-01,\n",
       "        1.39000010e+00, -1.06649958e-01,  8.32559764e-02,  4.01845872e-01,\n",
       "        4.67231348e-02, -1.50963396e-01, -1.00305188e+00,  3.28730136e-01,\n",
       "        1.11934352e+00, -4.61944550e-01, -1.07101524e+00,  4.06051427e-01,\n",
       "       -1.04365480e+00, -3.33669484e-02,  9.89441395e-01, -5.04380703e-01,\n",
       "        1.80936560e-01,  2.03808397e-02, -3.25548910e-02,  7.87321746e-01,\n",
       "        7.69617856e-01,  4.40694660e-01, -1.29902050e-01, -7.98573136e-01,\n",
       "       -8.37699652e-01, -1.43018797e-01, -2.58291900e-01, -2.56130010e-01,\n",
       "       -6.73560381e-01,  1.17446184e-01, -1.30869758e+00,  2.83475071e-01,\n",
       "       -5.63877821e-01, -1.22535840e-01,  6.47614479e-01, -2.66110927e-01,\n",
       "        1.41554320e+00, -1.13875747e+00,  8.61465931e-01,  2.85098433e-01,\n",
       "       -4.61540848e-01, -6.84066236e-01,  3.39012861e-01,  2.07751125e-01,\n",
       "       -6.14919625e-02,  3.00099760e-01,  1.13653876e-01, -5.33935785e-01,\n",
       "       -6.38299048e-01, -5.30106187e-01, -7.97549725e-01,  6.11378551e-01,\n",
       "        9.56478491e-02, -1.12998374e-02, -6.80722356e-01,  7.60250330e-01,\n",
       "       -1.27062857e+00,  2.65441477e-01,  4.52250876e-02, -5.69374502e-01,\n",
       "        2.20669046e-01, -8.52418065e-01,  3.15145217e-02,  1.57001838e-01,\n",
       "        1.17972910e+00,  1.17160523e+00,  3.78904790e-01,  1.07876647e+00,\n",
       "        4.28201109e-02,  9.09974813e-01,  8.55307877e-01, -1.10579689e-03,\n",
       "       -7.45267868e-01, -5.18868491e-02,  2.84861088e-01, -5.80482483e-01,\n",
       "        1.11423209e-01, -1.73495099e-01, -4.08021003e-01,  8.68682504e-01,\n",
       "       -1.63918082e-02,  6.02745712e-01, -1.32780743e+00,  5.85355461e-02,\n",
       "       -4.65599060e-01,  1.54110506e-01, -6.67014182e-01,  3.12654495e-01,\n",
       "       -9.71342862e-01,  4.00882632e-01, -4.47302997e-01,  2.74732471e-01,\n",
       "        2.11277828e-01, -8.32523108e-01,  1.30762231e+00,  2.33092487e-01,\n",
       "        8.74846339e-01, -1.10409399e-02, -1.30901203e-01,  4.40422803e-01,\n",
       "       -7.88075030e-01, -1.70191854e-01, -2.96999127e-01,  5.10137618e-01,\n",
       "       -4.98225361e-01, -2.79724091e-01,  6.50439680e-01, -6.03337884e-02,\n",
       "        2.35652566e-01, -4.98883389e-02, -6.34588063e-01,  3.43075186e-01,\n",
       "       -2.64476389e-01,  2.09572583e-01,  7.36824811e-01,  1.34158707e+00,\n",
       "       -1.88416429e-02, -9.85453665e-01,  4.99350160e-01, -1.67474896e-02,\n",
       "        1.27758712e-01,  1.92973375e-01,  8.24295998e-01, -9.36275303e-01,\n",
       "       -9.88027871e-01,  5.98941624e-01,  1.09373665e+00, -6.10816658e-01,\n",
       "       -2.07461298e-01,  4.19073820e-01,  1.32396746e+00,  2.22789422e-01,\n",
       "        8.36333811e-01, -1.97554320e-01,  4.38631028e-01, -1.70639768e-01,\n",
       "       -5.41847229e-01, -3.97750378e-01, -2.61616766e-01,  7.43961558e-02,\n",
       "        8.11365843e-01,  2.32725546e-01, -4.26935434e-01,  3.93163055e-01,\n",
       "        4.56625730e-01, -7.34688103e-01, -5.93152344e-01,  3.22319686e-01,\n",
       "       -1.12235987e+00,  3.28355640e-01, -9.16186392e-01,  3.20192516e-01,\n",
       "        8.03932965e-01,  4.40098286e-01,  2.25167677e-01, -6.72588646e-01,\n",
       "        5.48697710e-01, -7.49093413e-01, -1.01786995e+00,  9.88711882e-03,\n",
       "        3.05045009e-01, -3.13362032e-01, -1.57139704e-01, -9.57765877e-02,\n",
       "       -1.30829847e+00, -2.24869579e-01,  5.68946004e-01, -4.77185696e-02,\n",
       "       -3.06906968e-01,  2.67256409e-01,  6.39422089e-02,  1.11771636e-01,\n",
       "       -5.72333932e-01,  8.61982107e-01, -1.04767174e-01,  1.78254411e-01,\n",
       "       -1.82636291e-01, -1.50641128e-01,  4.11404744e-02, -3.15441549e-01,\n",
       "        7.86855742e-02, -3.68105531e-01,  5.24532497e-01,  2.86927611e-01,\n",
       "        1.01145577e+00, -6.78099394e-01,  2.22788304e-01,  4.87754792e-02,\n",
       "        7.77415693e-01, -9.85789895e-01,  1.57888457e-01, -1.07713699e+00,\n",
       "        3.12615514e-01, -3.92314702e-01,  5.67001462e-01,  3.89667451e-01,\n",
       "        2.45456219e-01, -3.00580889e-01, -7.21105456e-01, -1.58400163e-01,\n",
       "       -3.37162375e-01, -4.67523746e-02,  1.58835769e-01,  6.79824268e-03,\n",
       "        1.17642313e-01, -8.41057122e-01,  5.18035233e-01,  1.31257698e-01,\n",
       "       -7.00749159e-01, -6.92381084e-01,  5.08916140e-01, -7.20005808e-03,\n",
       "        1.05558574e-01, -9.23450887e-02,  1.15292037e+00, -1.81044266e-01,\n",
       "        6.29734159e-01, -3.50570790e-02,  4.61899132e-01,  8.12093616e-02,\n",
       "        2.94504352e-02,  3.88588816e-01, -6.08624756e-01, -4.54558820e-01,\n",
       "       -6.06816292e-01,  8.28920126e-01, -3.99945170e-01,  1.56563222e-02,\n",
       "       -8.16025436e-01,  3.65294851e-02,  4.91596341e-01,  1.68785617e-01,\n",
       "       -7.35856593e-02,  7.30193138e-01,  7.12492242e-02,  9.49936390e-01,\n",
       "        1.19991183e+00, -1.17773998e+00, -1.94186300e-01,  5.00628889e-01,\n",
       "        8.82315099e-01, -7.01939881e-01,  5.47410905e-01,  3.65285546e-01,\n",
       "        8.55441988e-01,  9.25896838e-02, -5.58900237e-02,  9.79649872e-02,\n",
       "        9.26216304e-01,  1.30134189e+00, -5.43922961e-01,  2.28405580e-01,\n",
       "       -6.02684729e-02, -2.04511225e-01, -7.20515475e-02, -3.66660118e-01,\n",
       "       -2.46854544e-01, -1.36005020e+00,  3.77834916e-01,  1.65512288e+00],\n",
       "      dtype=float32)"
      ]
     },
     "execution_count": 48,
     "metadata": {},
     "output_type": "execute_result"
    }
   ],
   "source": [
    "model.infer_vector(arxiv_papers_splitted[0])"
   ]
  },
  {
   "cell_type": "markdown",
   "metadata": {},
   "source": [
    "<h3> Word2Vec </h3>"
   ]
  },
  {
   "cell_type": "code",
   "execution_count": 122,
   "metadata": {},
   "outputs": [],
   "source": [
    "max_len = 0\n",
    "for i in arxiv_papers_splitted:\n",
    "    if len(i) > max_len:\n",
    "        max_len = len(i)"
   ]
  },
  {
   "cell_type": "code",
   "execution_count": 124,
   "metadata": {},
   "outputs": [
    {
     "name": "stdout",
     "output_type": "stream",
     "text": [
      "[ 785  536   61  205    6   77  243  449  785    2 1863  163  419  365\n",
      "   61  413  957  251  397  264   56  468  440  582 1194  358   98  130\n",
      "  264   43  265  274  515 2091 1195  334  413   45  785  536   73  144\n",
      "  315   23  786    2    1    6   27   15  785  536   98   17   25    4\n",
      "   37    5  266  414   23    1  785  536   24  283  702  390  456   31\n",
      "   32    4  165   59  165  419  353  128  135   54   56    0    0    0\n",
      "    0    0    0    0    0    0    0    0    0    0    0    0    0    0\n",
      "    0    0    0    0    0    0    0    0    0    0    0    0    0    0\n",
      "    0    0    0    0    0    0    0    0    0    0    0    0    0    0\n",
      "    0    0    0    0    0    0    0    0    0    0    0    0    0    0\n",
      "    0    0    0    0    0    0    0    0    0    0    0    0    0    0\n",
      "    0    0    0    0    0    0    0    0    0    0    0    0    0    0\n",
      "    0    0    0    0    0    0    0    0    0    0    0    0    0    0\n",
      "    0    0    0    0    0    0    0    0    0    0    0    0    0    0\n",
      "    0]\n"
     ]
    }
   ],
   "source": [
    "from keras.preprocessing.text import Tokenizer\n",
    "from keras_preprocessing.sequence import pad_sequences\n",
    "\n",
    "tokenizer=Tokenizer()\n",
    "tokenizer.fit_on_texts(arxiv_papers['summaries'])\n",
    "tokenized_documents=tokenizer.texts_to_sequences(arxiv_papers['summaries'])\n",
    "tokenized_paded_documents=pad_sequences(tokenized_documents,maxlen=max_len,padding='post')\n",
    "vocab_size = len(tokenizer.word_index) + 1\n",
    "print(tokenized_paded_documents[0])"
   ]
  },
  {
   "cell_type": "code",
   "execution_count": 111,
   "metadata": {},
   "outputs": [
    {
     "name": "stderr",
     "output_type": "stream",
     "text": [
      "C:\\Users\\Марія\\AppData\\Local\\Temp\\ipykernel_17172\\1832094138.py:9: DeprecationWarning: Call to deprecated `__contains__` (Method will be removed in 4.0.0, use self.wv.__contains__() instead).\n",
      "  if word in model_w2v:\n",
      "C:\\Users\\Марія\\AppData\\Local\\Temp\\ipykernel_17172\\1832094138.py:10: DeprecationWarning: Call to deprecated `__getitem__` (Method will be removed in 4.0.0, use self.wv.__getitem__() instead).\n",
      "  embedding_matrix[i]=model_w2v[word]\n"
     ]
    },
    {
     "data": {
      "text/plain": [
       "(1000, 197, 100)"
      ]
     },
     "execution_count": 111,
     "metadata": {},
     "output_type": "execute_result"
    }
   ],
   "source": [
    "from gensim.models import Word2Vec as w2v\n",
    "\n",
    "model_w2v = w2v(\n",
    "    arxiv_papers_splitted \n",
    ")       \n",
    "\n",
    "embedding_matrix=np.zeros((vocab_size,100))\n",
    "for word,i in tokenizer.word_index.items():\n",
    "    if word in model_w2v:\n",
    "        embedding_matrix[i]=model_w2v[word]\n",
    "\n",
    "document_word_embeddings=np.zeros((len(tokenized_paded_documents),197,100))\n",
    "for i in range(len(tokenized_paded_documents)):\n",
    "    for j in range(len(tokenized_paded_documents[0])):\n",
    "        document_word_embeddings[i][j]=embedding_matrix[tokenized_paded_documents[i][j]]\n",
    "document_word_embeddings.shape"
   ]
  },
  {
   "cell_type": "code",
   "execution_count": 113,
   "metadata": {},
   "outputs": [],
   "source": [
    "#tfidf_vectors=vectorizer.transform(arxiv_papers['summaries'])\n",
    "\n",
    "document_embeddings=np.zeros((len(tokenized_paded_documents),100))\n",
    "words=vectorizer.get_feature_names()\n",
    "for i in range(len(document_word_embeddings)):\n",
    "    for j in range(len(document_word_embeddings[i])):\n",
    "        document_embeddings[i] += document_word_embeddings[i][j]#*tfidf_vectors[i][j]\n",
    "    document_embeddings[i] = document_embeddings[i] / len(document_word_embeddings)"
   ]
  },
  {
   "cell_type": "markdown",
   "metadata": {},
   "source": [
    "<h3> BERT </h3>"
   ]
  },
  {
   "cell_type": "code",
   "execution_count": 10,
   "metadata": {},
   "outputs": [],
   "source": [
    "import torch\n",
    "from transformers import BertTokenizer, BertModel\n",
    "\n",
    "bert_tokenizer = BertTokenizer.from_pretrained('bert-base-uncased')"
   ]
  },
  {
   "cell_type": "code",
   "execution_count": 19,
   "metadata": {},
   "outputs": [],
   "source": [
    "prebert_docs = arxiv_papers['summaries'].apply(lambda x: \"[CLS] \" + x + \" [SEP]\")"
   ]
  },
  {
   "cell_type": "code",
   "execution_count": 20,
   "metadata": {},
   "outputs": [
    {
     "data": {
      "text/plain": [
       "0      [CLS] stereo match one wide use techniqu infer...\n",
       "1      [CLS] recent advanc artifici intellig ai combi...\n",
       "2      [CLS] paper propos novel mutual consist networ...\n",
       "3      [CLS] consist train proven advanc semi supervi...\n",
       "4      [CLS] ensur safeti autom drive correct percept...\n",
       "                             ...                        \n",
       "995    [CLS] accur medic imag segment essenti diagnos...\n",
       "996    [CLS] isointens stage accur volumetr imag segm...\n",
       "997    [CLS] complex segment task fulli automat syste...\n",
       "998    [CLS] low shot learn method imag classif suppo...\n",
       "999    [CLS] semant imag segment import comput vision...\n",
       "Name: summaries, Length: 1000, dtype: object"
      ]
     },
     "execution_count": 20,
     "metadata": {},
     "output_type": "execute_result"
    }
   ],
   "source": [
    "prebert_docs"
   ]
  },
  {
   "cell_type": "code",
   "execution_count": 21,
   "metadata": {},
   "outputs": [],
   "source": [
    "bert_docs  = prebert_docs.apply(lambda x: bert_tokenizer.tokenize(x))"
   ]
  },
  {
   "cell_type": "code",
   "execution_count": 22,
   "metadata": {},
   "outputs": [
    {
     "data": {
      "application/vnd.jupyter.widget-view+json": {
       "model_id": "7306945a03f446c48aa87c97bce4554b",
       "version_major": 2,
       "version_minor": 0
      },
      "text/plain": [
       "Batches:   0%|          | 0/32 [00:00<?, ?it/s]"
      ]
     },
     "metadata": {},
     "output_type": "display_data"
    }
   ],
   "source": [
    "from sentence_transformers import SentenceTransformer\n",
    "\n",
    "model = SentenceTransformer('distilbert-base-nli-mean-tokens')\n",
    "embeddings = model.encode(bert_docs, show_progress_bar=True)"
   ]
  },
  {
   "cell_type": "code",
   "execution_count": 23,
   "metadata": {},
   "outputs": [
    {
     "data": {
      "text/plain": [
       "array([-0.9001504 , -0.1923944 , -0.3314088 , -0.00542206, -0.50027484,\n",
       "       -0.7925502 ,  0.6349969 ,  0.46893567, -0.38503575,  1.255507  ,\n",
       "        0.6253959 ,  0.74420387,  0.2702955 , -0.18012801,  0.1473182 ,\n",
       "       -0.5380218 ,  0.05832737,  0.23732433, -0.42837057, -0.35841185,\n",
       "        0.29445767, -0.25914767, -0.2312975 ,  1.150772  , -0.5539219 ,\n",
       "        0.1698472 ,  1.2156613 ,  0.11076261, -0.17989662, -0.2959482 ,\n",
       "        0.44213533,  1.2829968 ,  0.53174245,  0.59939766,  0.74358165,\n",
       "       -0.04720026, -0.04213877, -0.5826794 ,  0.31136245, -0.19812906,\n",
       "        0.6966152 ,  0.3127091 ,  0.1544398 , -0.6848373 , -0.6933682 ,\n",
       "        0.9804041 , -1.7555034 ,  0.54483455, -1.9538212 , -0.93046856,\n",
       "       -0.6505855 ,  0.36982125,  1.6868384 , -0.37338293, -1.1974249 ,\n",
       "       -0.21531716, -1.6789265 ,  0.634575  ,  0.25031886,  0.27878395,\n",
       "        0.16680112,  0.10418699,  0.06515896, -0.8640729 , -0.06907883,\n",
       "       -0.02336732,  0.9174653 ,  0.73995674,  0.42423338, -0.4626553 ,\n",
       "        0.956514  , -0.53928745,  0.13468465, -0.5832535 ,  0.13148603,\n",
       "       -0.05838258,  0.07317985,  0.14506303,  0.94225806, -0.06915859,\n",
       "        0.5332497 , -0.9746615 , -0.9266733 , -0.11385264, -0.79829246,\n",
       "       -1.6721079 , -0.83702344,  0.01791005, -0.71448594,  0.6771896 ,\n",
       "        0.11448243, -0.770785  ,  0.02475274,  1.0222977 , -0.3769094 ,\n",
       "       -0.923364  , -0.39123672, -0.43506247, -0.51825964,  0.1692871 ,\n",
       "       -0.9777069 , -0.6133591 , -0.34982938,  0.04322038, -0.7167423 ,\n",
       "        0.03929664,  1.066793  , -0.15287846, -0.6392642 ,  0.25216192,\n",
       "       -0.7024522 , -1.0486848 ,  0.53560865,  0.46058053, -0.6046308 ,\n",
       "       -0.57084084, -0.08319821, -0.26956433,  0.18944035,  0.47191286,\n",
       "       -0.10945022,  0.9237251 , -0.0650986 ,  0.6174748 ,  0.11007056,\n",
       "        0.42960644,  0.9511522 , -0.453508  ,  0.8890487 ,  0.18404196,\n",
       "        0.5166664 ,  0.2758946 ,  0.07058898, -0.4593683 ,  0.19306765,\n",
       "       -0.42463627,  1.0947502 ,  0.3580792 , -0.4000083 , -0.6969412 ,\n",
       "        0.96720105,  2.0098326 , -0.58721626,  0.08872668,  0.9527215 ,\n",
       "        0.03813554,  0.08440116,  0.39477748, -0.2810168 , -0.18928556,\n",
       "       -0.585579  ,  0.12014721, -0.2348394 , -0.50821006, -0.4065271 ,\n",
       "       -0.6692932 , -0.78789747, -0.41022158, -0.6520863 ,  0.66948617,\n",
       "        0.24614616, -0.4347456 ,  0.01889664, -0.19227393, -0.41818252,\n",
       "       -0.66317934, -1.1782844 ,  0.15071377, -0.44733477,  0.27277628,\n",
       "        1.0024143 , -0.6575814 ,  0.2958765 ,  0.36873966, -0.44963616,\n",
       "        0.07958879,  0.20559978, -0.5881202 , -0.49504155, -0.12144543,\n",
       "       -0.06564186, -1.2248759 ,  0.38795525, -0.5499301 ,  0.4393685 ,\n",
       "        0.26589307, -0.466437  , -1.3760408 ,  0.35026628,  0.48838702,\n",
       "       -0.12417348, -0.33531588,  0.38980547,  0.8355031 ,  0.5540822 ,\n",
       "        0.39919922,  0.17378995, -0.8414222 ,  0.6039819 , -0.80455303,\n",
       "        0.4944869 ,  0.68024176,  0.54701394,  0.1474641 , -0.8344099 ,\n",
       "        0.37267265,  0.45930856, -0.16334356,  0.30793196,  0.23256914,\n",
       "        0.05851607, -0.18204258, -1.2769126 , -0.19144182,  0.16600737,\n",
       "        0.94069976, -0.07560516, -0.4600057 ,  0.0733657 , -0.2930268 ,\n",
       "       -0.6939627 ,  0.28584024,  0.18269578,  0.12133318, -0.87882197,\n",
       "        0.23801944,  1.5147948 ,  0.44233704, -0.4968551 ,  0.20085032,\n",
       "       -0.56967485,  0.7452653 ,  0.22914343,  0.23087534, -0.27085537,\n",
       "        0.7100177 ,  0.4260663 , -0.33453616,  0.44277105, -0.02442789,\n",
       "        0.540751  ,  0.05472746, -0.9481535 , -0.13389294, -0.11854585,\n",
       "        0.18275432, -0.46780834,  0.2771836 , -0.03800993,  0.14623308,\n",
       "       -1.1509815 , -0.4985858 ,  0.742591  ,  0.55377483,  0.31400028,\n",
       "       -0.04129217, -0.6973565 , -0.75985944,  0.47838965, -0.31535286,\n",
       "       -0.07531091,  0.5512654 ,  0.15504049,  0.34227985, -0.11678463,\n",
       "       -0.9942196 , -0.23732384,  1.1544285 ,  0.813161  ,  0.23744221,\n",
       "       -0.6576371 ,  0.5508049 ,  0.7113606 ,  0.33200797,  0.08475938,\n",
       "        0.24616316,  0.3716456 ,  0.62698567, -0.34668976, -0.35974994,\n",
       "       -0.7670623 , -0.9272976 , -0.40439707,  0.04963417, -0.5762264 ,\n",
       "        0.71939325,  0.15387961, -0.59121406, -0.03242941, -0.58581   ,\n",
       "        0.5547004 ,  0.52142835, -0.34801352, -0.04090327, -0.33034548,\n",
       "        0.9505436 ,  0.3285157 ,  0.20519462, -1.2509463 ,  0.8784027 ,\n",
       "        0.30392846, -0.601986  , -0.1208839 ,  0.42709303, -0.789269  ,\n",
       "        0.28932726, -0.3040371 , -0.65700763,  0.11499796,  0.25367334,\n",
       "       -0.455659  ,  1.1117544 , -0.33605713,  0.10854352,  0.02699765,\n",
       "        1.3560808 ,  0.2577942 ,  0.96668977, -0.43907428,  0.526044  ,\n",
       "       -0.5659788 ,  0.77247   , -0.47261277, -0.81834614, -1.0220095 ,\n",
       "       -0.11610669, -0.9189474 ,  0.54298306,  0.02011872,  0.794173  ,\n",
       "        1.0120728 , -0.26905483, -0.14566188,  0.41077128,  0.5696723 ,\n",
       "        0.3246271 , -0.9287163 ,  0.02865666, -1.054518  , -0.60879266,\n",
       "        0.05446068,  0.3038599 ,  0.7079695 , -0.2796302 ,  0.33039522,\n",
       "       -0.87489766,  0.29556197,  0.50149566,  0.24272466, -1.1134264 ,\n",
       "        0.17718801,  0.79094934, -1.5649643 , -0.30192214,  1.0325006 ,\n",
       "        0.85594594,  0.7712027 ,  0.07099684, -0.4404292 ,  1.1004107 ,\n",
       "       -0.12023616,  0.39942068,  0.2224607 , -0.2638583 , -0.1832433 ,\n",
       "        0.18190639, -0.08228914, -0.5481125 ,  1.2123835 ,  0.37157708,\n",
       "        0.50430274,  0.7231288 ,  0.7935884 , -0.18943413,  0.15221691,\n",
       "       -0.17446867,  0.2223455 ,  0.33400768,  0.02418606, -0.296704  ,\n",
       "       -0.28130668, -0.38370663, -0.09105526, -0.00898558, -0.2047508 ,\n",
       "        0.5180853 ,  0.58213985, -1.0847358 ,  0.8044232 ,  0.27828884,\n",
       "        0.10388942,  0.91163844,  0.01326273, -0.3028442 , -0.4611965 ,\n",
       "        0.07366131, -0.00449455,  0.56970775,  0.37390643,  0.39445016,\n",
       "       -0.37502718,  1.2391504 , -0.6776877 , -1.8625656 ,  0.282599  ,\n",
       "       -0.59842116,  1.1920714 ,  0.11752857,  0.9292679 , -0.19332877,\n",
       "       -0.8156269 , -0.27026182, -0.8597773 , -0.30755848,  0.16251194,\n",
       "       -0.41572055, -0.34211296, -0.05419013,  1.2234159 , -0.6757473 ,\n",
       "       -1.1516281 ,  0.8034118 ,  0.35306174, -0.17392802, -0.08894502,\n",
       "       -0.2049689 ,  0.15815493, -0.3654245 ,  0.80809414,  0.5148001 ,\n",
       "        0.18972409, -0.33087677, -1.3464334 ,  0.58674663, -0.4497319 ,\n",
       "       -0.41617185, -0.58269   , -0.67625654, -0.5040175 , -0.16730389,\n",
       "        0.39117447, -0.18614072, -0.23390043,  0.17455193, -0.467374  ,\n",
       "        1.824702  ,  0.19116648, -0.43349105, -0.28084657, -0.37166327,\n",
       "        0.5028757 ,  0.5069598 , -1.3784351 , -0.64202213, -0.57035536,\n",
       "       -0.50640035, -0.73515797, -0.20740214,  0.1195844 ,  0.2598283 ,\n",
       "        0.13901171, -0.77576435, -0.81803435, -0.16582546, -0.14180815,\n",
       "       -0.29682407,  0.75914115, -0.5768112 ,  0.56761515,  1.0260804 ,\n",
       "       -0.66332245, -0.53974426,  0.13280325,  1.1284297 ,  1.0746992 ,\n",
       "       -0.14074902, -1.3808992 , -1.4199302 ,  0.09117039, -0.00507825,\n",
       "       -0.08799151, -0.7451574 ,  0.6959661 , -0.31671223,  0.41933483,\n",
       "       -2.0158045 ,  0.98192483, -0.85802346,  0.3789824 , -0.56453615,\n",
       "        0.27194518,  0.5213901 ,  0.01343051,  0.09805384, -1.1263124 ,\n",
       "        0.16338764, -0.76040727, -0.08646254,  0.02338635, -0.41379708,\n",
       "       -0.478388  , -0.25390506, -1.0814371 , -0.12928548,  0.77265394,\n",
       "        1.264868  , -0.7935254 ,  0.6228435 , -0.03416914, -0.31108302,\n",
       "        0.34277746, -0.3937021 ,  0.2197319 ,  0.60932857,  1.4393699 ,\n",
       "        0.0351824 ,  0.2959067 ,  0.3141163 ,  0.3592872 , -0.14691909,\n",
       "       -1.1242158 ,  0.65296483, -0.16195962,  0.10164337, -0.14233842,\n",
       "        0.84296817,  0.24423906,  0.6144349 , -0.9390234 ,  0.5124405 ,\n",
       "        0.03928053,  0.3207569 , -0.22564626, -0.7052015 , -0.8615724 ,\n",
       "        0.11533351,  0.26497597,  0.35900205, -0.32309633,  1.2131202 ,\n",
       "        0.11165683,  0.10026003,  0.70674217,  0.47436076, -0.5410496 ,\n",
       "        0.21796536, -0.30478355, -0.21238121, -0.00734668,  0.388456  ,\n",
       "       -0.5968195 , -0.32813546, -0.50344324,  1.8426561 , -0.1972148 ,\n",
       "       -0.12260928, -1.5459788 , -1.052276  ,  0.8021515 , -0.6722549 ,\n",
       "       -0.15844244,  0.2157851 ,  0.01029146, -1.086625  ,  0.70777786,\n",
       "        0.34778765, -0.10593661,  0.28940776,  0.29000825,  1.6018686 ,\n",
       "        0.01033744, -0.38821167,  0.48172227,  0.1833072 , -0.16846973,\n",
       "        0.0258592 ,  0.37814718,  0.669285  , -0.75571835, -0.31341696,\n",
       "        0.6030838 ,  0.62583053, -0.83287   , -0.15116581, -0.49683672,\n",
       "        0.271736  ,  0.09396569, -1.1874695 ,  0.12892371,  0.31936324,\n",
       "        0.22063398,  0.14146434, -0.40592045,  0.0762643 , -1.2351869 ,\n",
       "        0.6567305 ,  0.50047284,  0.2534534 , -0.24943738, -0.35093233,\n",
       "        0.30722362,  0.03288159, -1.101288  ,  0.83807945, -1.6336982 ,\n",
       "        0.7314313 ,  0.32218513, -0.27474946, -0.36227623,  0.967641  ,\n",
       "        0.5509574 ,  0.04306628,  0.22544923,  0.22527607, -0.03125853,\n",
       "        0.5364189 , -0.40981418,  0.99417174, -0.5151054 ,  1.2215149 ,\n",
       "       -1.1040792 , -0.17049758,  0.30158654, -0.22149439,  0.92459995,\n",
       "        0.08285175,  0.50463015,  0.21197858, -0.6795556 , -0.3908329 ,\n",
       "        0.40985674,  0.19842432,  0.14271428,  0.19363391,  0.21536307,\n",
       "       -0.33100247,  0.6442364 , -0.01869319, -0.5334822 , -0.40500697,\n",
       "        0.4716662 , -0.6473857 ,  0.2842483 , -1.287915  , -0.7114998 ,\n",
       "       -0.15460958, -0.6810979 , -0.3122625 , -0.9965944 ,  0.39204657,\n",
       "        0.17351219, -0.8497213 ,  0.31110024,  0.05104121,  0.6925571 ,\n",
       "        0.48177615, -0.67688733, -0.83717364,  1.420487  ,  1.1577861 ,\n",
       "       -0.7154216 ,  0.5448275 , -0.4405753 , -0.41372138,  0.62208   ,\n",
       "       -0.78772986,  0.83917475,  0.27610588,  0.11861776, -0.4349634 ,\n",
       "        0.1879907 , -0.58347267,  1.1795921 , -1.0304492 ,  0.04920649,\n",
       "        0.13048959,  0.47873706,  0.49793458,  0.38417944, -0.93266153,\n",
       "        0.72444665,  1.0465685 ,  0.5694834 ,  0.39502555,  0.58261144,\n",
       "        0.11982064, -0.36413503,  0.67798954, -0.5301113 ,  0.42556685,\n",
       "       -0.8914396 , -0.7257249 , -0.12609819,  0.41681328, -0.718876  ,\n",
       "       -0.34159592, -0.49583992,  1.033955  , -0.27157882, -0.07124852,\n",
       "       -1.0306493 , -0.58729106, -0.9186289 , -0.01321569,  0.06096462,\n",
       "        0.12374569,  0.15878013, -0.5977653 , -1.3574334 ,  0.574442  ,\n",
       "        0.20518568,  0.19298218,  0.5333055 ,  0.49876046, -0.44522548,\n",
       "        0.03249583,  0.2735337 , -0.95837533,  0.10701237, -1.3389002 ,\n",
       "        0.41072878, -0.46148896,  0.8450899 , -0.8618005 , -0.13891438,\n",
       "        0.54657906, -0.02473303, -0.875069  , -0.87706697,  0.14618574,\n",
       "       -0.36274174,  0.0462799 , -0.73688793,  1.3156567 ,  0.07378268,\n",
       "        0.19881633,  0.6956857 , -0.0084347 , -0.5289389 , -0.5348753 ,\n",
       "       -0.33658913, -0.7927518 , -0.8286959 , -0.09688307, -0.4326597 ,\n",
       "       -0.81046236, -0.6239237 , -0.9276069 , -0.9889947 ,  0.32644412,\n",
       "        1.0216739 , -0.19074777,  0.0817753 , -1.6606573 , -0.9329607 ,\n",
       "        0.17397837, -0.31993142,  0.33618435, -0.48685846,  0.15088515,\n",
       "       -0.44249648,  0.14145052, -0.11500696, -0.09095079,  0.32747838,\n",
       "       -0.11349617,  0.15691349, -0.5939418 ], dtype=float32)"
      ]
     },
     "execution_count": 23,
     "metadata": {},
     "output_type": "execute_result"
    }
   ],
   "source": [
    "embeddings[0]"
   ]
  },
  {
   "cell_type": "markdown",
   "metadata": {},
   "source": [
    "<h3> LDA </h3>"
   ]
  },
  {
   "cell_type": "markdown",
   "metadata": {},
   "source": [
    "<h4> Additional text cleaning </h4>"
   ]
  },
  {
   "cell_type": "code",
   "execution_count": 58,
   "metadata": {},
   "outputs": [],
   "source": [
    "def replace_ngram(x, ngram_array):\n",
    "    for gram in ngram_array:\n",
    "        x = x.replace(gram, '_'.join(gram.split()))\n",
    "    return x"
   ]
  },
  {
   "cell_type": "code",
   "execution_count": 78,
   "metadata": {},
   "outputs": [],
   "source": [
    "vocab = set()\n",
    "words_frequences = {}"
   ]
  },
  {
   "cell_type": "code",
   "execution_count": 55,
   "metadata": {},
   "outputs": [
    {
     "data": {
      "text/plain": [
       "[(('magnetic', 'resonance'), 11.124833798842655),\n",
       " (('intersection', 'union'), 11.016158137061707),\n",
       " (('pascal', 'voc'), 10.5831987297856),\n",
       " (('github', 'com'), 9.86767595934553),\n",
       " (('http', 'github'), 9.682875000248522),\n",
       " (('ground', 'truth'), 9.678769403943186),\n",
       " (('long', 'range'), 9.419422938551294),\n",
       " (('real', 'world'), 8.761947581614917),\n",
       " (('computer', 'vision'), 8.570915568059284),\n",
       " (('encoder', 'decoder'), 8.528007476330655),\n",
       " (('active', 'contour'), 8.404430396023695),\n",
       " (('recent', 'year'), 8.328619434390252),\n",
       " (('available', 'http'), 8.161309753760445),\n",
       " (('u', 'net'), 8.025769671313553),\n",
       " (('attention', 'mechanism'), 7.904725169341329),\n",
       " (('time', 'consuming'), 7.899758956452885),\n",
       " (('random', 'field'), 7.758051468171033),\n",
       " (('end', 'end'), 7.597023743143673),\n",
       " (('experimental', 'result'), 7.578428051922758),\n",
       " (('state', 'art'), 7.534444011394136),\n",
       " (('extensive', 'experiment'), 7.49123084575157),\n",
       " (('multi', 'modal'), 7.470038350892951),\n",
       " (('loss', 'function'), 7.229712884249803),\n",
       " (('contextual', 'information'), 7.13129755175467),\n",
       " (('domain', 'adaptation'), 7.037370957592314),\n",
       " (('pixel', 'wise'), 6.820743858503231),\n",
       " (('large', 'amount'), 6.677510165465591),\n",
       " (('convolutional', 'neural'), 6.657466699802267),\n",
       " (('high', 'resolution'), 6.624568462696779),\n",
       " (('real', 'time'), 6.481005010943367)]"
      ]
     },
     "execution_count": 55,
     "metadata": {},
     "output_type": "execute_result"
    }
   ],
   "source": [
    "import nltk\n",
    "\n",
    "bigram_measures = nltk.collocations.BigramAssocMeasures()\n",
    "finder =nltk.collocations.BigramCollocationFinder.from_documents(arxiv_papers_splitted)\n",
    "finder.apply_freq_filter(30)\n",
    "bigram_scores = finder.score_ngrams(bigram_measures.pmi)\n",
    "bigrams = [\" \".join(list(bigram[0])) for bigram in bigram_scores]\n",
    "bigram_scores = bigram_scores[:30]\n",
    "bigram_scores"
   ]
  },
  {
   "cell_type": "code",
   "execution_count": 57,
   "metadata": {},
   "outputs": [
    {
     "data": {
      "text/plain": [
       "['medical image segmentation',\n",
       " 'convolutional neural network',\n",
       " 'deep neural network',\n",
       " 'semantic image segmentation',\n",
       " 'image segmentation task',\n",
       " 'state art method',\n",
       " 'image segmentation method',\n",
       " 'http github com',\n",
       " 'state art performance',\n",
       " 'available http github',\n",
       " 'neural network cnns']"
      ]
     },
     "execution_count": 57,
     "metadata": {},
     "output_type": "execute_result"
    }
   ],
   "source": [
    "from collections import Counter\n",
    "\n",
    "trigrams = []\n",
    "whole_text = []\n",
    "for abstract in arxiv_papers_splitted:\n",
    "    whole_text = whole_text + abstract\n",
    "\n",
    "ngrams = Counter(nltk.ngrams(whole_text, 3))\n",
    "\n",
    "for ngram, freq in ngrams.most_common(11):\n",
    "    trigrams.append(\" \".join(ngram))\n",
    "trigrams"
   ]
  },
  {
   "cell_type": "code",
   "execution_count": 59,
   "metadata": {},
   "outputs": [],
   "source": [
    "tokenized_docs = arxiv_papers_splitted.apply(lambda x : \" \".join(word for word in x))\n",
    "tokenized_docs = tokenized_docs.apply(lambda x: replace_ngram(x, bigrams))\n",
    "tokenized_docs = tokenized_docs.apply(lambda x: replace_ngram(x, trigrams))\n",
    "tokenized_docs = tokenized_docs.apply(lambda x: x.split())"
   ]
  },
  {
   "cell_type": "code",
   "execution_count": 71,
   "metadata": {},
   "outputs": [
    {
     "data": {
      "text/plain": [
       "0      [stereo, technique, depth, stereo, image, robu...\n",
       "1      [recent, advancement, artificial, intelligence...\n",
       "2      [paper_novel, mutual, consistency, network, mc...\n",
       "3      [consistency, training, proven, advanced, semi...\n",
       "4      [safety, correct, perception, situation, car, ...\n",
       "                             ...                        \n",
       "995    [accurate, medical_image_segmentation, essenti...\n",
       "996    [isointense, stage, accurate, volumetric, imag...\n",
       "997    [complex, segmentation_task, automatic, system...\n",
       "998    [low, shot, method_image_classification, suppo...\n",
       "999    [semantic_image_segmentation, important, compu...\n",
       "Name: summaries, Length: 1000, dtype: object"
      ]
     },
     "execution_count": 71,
     "metadata": {},
     "output_type": "execute_result"
    }
   ],
   "source": [
    "tokenized_docs"
   ]
  },
  {
   "cell_type": "code",
   "execution_count": 82,
   "metadata": {},
   "outputs": [],
   "source": [
    "vocab2 = set()"
   ]
  },
  {
   "cell_type": "code",
   "execution_count": 83,
   "metadata": {},
   "outputs": [],
   "source": [
    "def form_vocab():\n",
    "    vocab2.clear()\n",
    "    for i in tokenized_docs:\n",
    "        for j in i:\n",
    "            vocab2.add(j)"
   ]
  },
  {
   "cell_type": "code",
   "execution_count": 84,
   "metadata": {},
   "outputs": [],
   "source": [
    "form_vocab()"
   ]
  },
  {
   "cell_type": "code",
   "execution_count": 87,
   "metadata": {},
   "outputs": [
    {
     "data": {
      "text/html": [
       "<div>\n",
       "<style scoped>\n",
       "    .dataframe tbody tr th:only-of-type {\n",
       "        vertical-align: middle;\n",
       "    }\n",
       "\n",
       "    .dataframe tbody tr th {\n",
       "        vertical-align: top;\n",
       "    }\n",
       "\n",
       "    .dataframe thead th {\n",
       "        text-align: right;\n",
       "    }\n",
       "</style>\n",
       "<table border=\"1\" class=\"dataframe\">\n",
       "  <thead>\n",
       "    <tr style=\"text-align: right;\">\n",
       "      <th></th>\n",
       "      <th>0</th>\n",
       "      <th>1</th>\n",
       "      <th>2</th>\n",
       "      <th>3</th>\n",
       "      <th>4</th>\n",
       "      <th>5</th>\n",
       "      <th>6</th>\n",
       "      <th>7</th>\n",
       "      <th>8</th>\n",
       "      <th>9</th>\n",
       "      <th>...</th>\n",
       "      <th>990</th>\n",
       "      <th>991</th>\n",
       "      <th>992</th>\n",
       "      <th>993</th>\n",
       "      <th>994</th>\n",
       "      <th>995</th>\n",
       "      <th>996</th>\n",
       "      <th>997</th>\n",
       "      <th>998</th>\n",
       "      <th>999</th>\n",
       "    </tr>\n",
       "  </thead>\n",
       "  <tbody>\n",
       "    <tr>\n",
       "      <th>glaucoma</th>\n",
       "      <td>0.0</td>\n",
       "      <td>0.0</td>\n",
       "      <td>0.0</td>\n",
       "      <td>0.0</td>\n",
       "      <td>0.0</td>\n",
       "      <td>0.0</td>\n",
       "      <td>0.0</td>\n",
       "      <td>0.0</td>\n",
       "      <td>0.0</td>\n",
       "      <td>0.0</td>\n",
       "      <td>...</td>\n",
       "      <td>0.0</td>\n",
       "      <td>0.0</td>\n",
       "      <td>0.0</td>\n",
       "      <td>0.0</td>\n",
       "      <td>0.0</td>\n",
       "      <td>0.0</td>\n",
       "      <td>0.0</td>\n",
       "      <td>0.0</td>\n",
       "      <td>0.0</td>\n",
       "      <td>0.0</td>\n",
       "    </tr>\n",
       "    <tr>\n",
       "      <th>caption</th>\n",
       "      <td>0.0</td>\n",
       "      <td>0.0</td>\n",
       "      <td>0.0</td>\n",
       "      <td>0.0</td>\n",
       "      <td>0.0</td>\n",
       "      <td>0.0</td>\n",
       "      <td>0.0</td>\n",
       "      <td>0.0</td>\n",
       "      <td>0.0</td>\n",
       "      <td>0.0</td>\n",
       "      <td>...</td>\n",
       "      <td>0.0</td>\n",
       "      <td>0.0</td>\n",
       "      <td>0.0</td>\n",
       "      <td>0.0</td>\n",
       "      <td>0.0</td>\n",
       "      <td>0.0</td>\n",
       "      <td>0.0</td>\n",
       "      <td>0.0</td>\n",
       "      <td>0.0</td>\n",
       "      <td>0.0</td>\n",
       "    </tr>\n",
       "    <tr>\n",
       "      <th>aperture</th>\n",
       "      <td>0.0</td>\n",
       "      <td>0.0</td>\n",
       "      <td>0.0</td>\n",
       "      <td>0.0</td>\n",
       "      <td>0.0</td>\n",
       "      <td>0.0</td>\n",
       "      <td>0.0</td>\n",
       "      <td>0.0</td>\n",
       "      <td>0.0</td>\n",
       "      <td>0.0</td>\n",
       "      <td>...</td>\n",
       "      <td>1.0</td>\n",
       "      <td>0.0</td>\n",
       "      <td>0.0</td>\n",
       "      <td>0.0</td>\n",
       "      <td>0.0</td>\n",
       "      <td>0.0</td>\n",
       "      <td>0.0</td>\n",
       "      <td>0.0</td>\n",
       "      <td>0.0</td>\n",
       "      <td>0.0</td>\n",
       "    </tr>\n",
       "    <tr>\n",
       "      <th>patient</th>\n",
       "      <td>0.0</td>\n",
       "      <td>0.0</td>\n",
       "      <td>0.0</td>\n",
       "      <td>0.0</td>\n",
       "      <td>0.0</td>\n",
       "      <td>0.0</td>\n",
       "      <td>0.0</td>\n",
       "      <td>0.0</td>\n",
       "      <td>0.0</td>\n",
       "      <td>0.0</td>\n",
       "      <td>...</td>\n",
       "      <td>0.0</td>\n",
       "      <td>1.0</td>\n",
       "      <td>0.0</td>\n",
       "      <td>0.0</td>\n",
       "      <td>0.0</td>\n",
       "      <td>0.0</td>\n",
       "      <td>0.0</td>\n",
       "      <td>1.0</td>\n",
       "      <td>0.0</td>\n",
       "      <td>0.0</td>\n",
       "    </tr>\n",
       "    <tr>\n",
       "      <th>unstable</th>\n",
       "      <td>0.0</td>\n",
       "      <td>0.0</td>\n",
       "      <td>0.0</td>\n",
       "      <td>0.0</td>\n",
       "      <td>0.0</td>\n",
       "      <td>0.0</td>\n",
       "      <td>0.0</td>\n",
       "      <td>0.0</td>\n",
       "      <td>0.0</td>\n",
       "      <td>0.0</td>\n",
       "      <td>...</td>\n",
       "      <td>0.0</td>\n",
       "      <td>0.0</td>\n",
       "      <td>0.0</td>\n",
       "      <td>0.0</td>\n",
       "      <td>0.0</td>\n",
       "      <td>0.0</td>\n",
       "      <td>0.0</td>\n",
       "      <td>0.0</td>\n",
       "      <td>0.0</td>\n",
       "      <td>0.0</td>\n",
       "    </tr>\n",
       "  </tbody>\n",
       "</table>\n",
       "<p>5 rows × 1000 columns</p>\n",
       "</div>"
      ],
      "text/plain": [
       "          0    1    2    3    4    5    6    7    8    9    ...  990  991  \\\n",
       "glaucoma  0.0  0.0  0.0  0.0  0.0  0.0  0.0  0.0  0.0  0.0  ...  0.0  0.0   \n",
       "caption   0.0  0.0  0.0  0.0  0.0  0.0  0.0  0.0  0.0  0.0  ...  0.0  0.0   \n",
       "aperture  0.0  0.0  0.0  0.0  0.0  0.0  0.0  0.0  0.0  0.0  ...  1.0  0.0   \n",
       "patient   0.0  0.0  0.0  0.0  0.0  0.0  0.0  0.0  0.0  0.0  ...  0.0  1.0   \n",
       "unstable  0.0  0.0  0.0  0.0  0.0  0.0  0.0  0.0  0.0  0.0  ...  0.0  0.0   \n",
       "\n",
       "          992  993  994  995  996  997  998  999  \n",
       "glaucoma  0.0  0.0  0.0  0.0  0.0  0.0  0.0  0.0  \n",
       "caption   0.0  0.0  0.0  0.0  0.0  0.0  0.0  0.0  \n",
       "aperture  0.0  0.0  0.0  0.0  0.0  0.0  0.0  0.0  \n",
       "patient   0.0  0.0  0.0  0.0  0.0  1.0  0.0  0.0  \n",
       "unstable  0.0  0.0  0.0  0.0  0.0  0.0  0.0  0.0  \n",
       "\n",
       "[5 rows x 1000 columns]"
      ]
     },
     "execution_count": 87,
     "metadata": {},
     "output_type": "execute_result"
    }
   ],
   "source": [
    "import pandas as pd\n",
    "\n",
    "d = {i : [] for i in list(vocab2)}\n",
    "data = pd.DataFrame(d)\n",
    "\n",
    "for doc in tokenized_docs:\n",
    "    data = data.append({i : doc.count(i) for i in list(vocab2)}, ignore_index=True)\n",
    "data = data.transpose()\n",
    "data.head()"
   ]
  },
  {
   "cell_type": "code",
   "execution_count": 88,
   "metadata": {},
   "outputs": [],
   "source": [
    "def calc_frequences():\n",
    "    words_frequences = dict.fromkeys(list(vocab2), 0)\n",
    "    for word in list(vocab2):\n",
    "        for i in data.loc[[word], :].sum():\n",
    "            words_frequences[word] += i\n",
    "    words_frequences = {k: v for k, v in sorted(words_frequences.items(), key=lambda item: item[1], reverse=True)}\n",
    "    return words_frequences"
   ]
  },
  {
   "cell_type": "code",
   "execution_count": 89,
   "metadata": {},
   "outputs": [],
   "source": [
    "words_frequences = calc_frequences()"
   ]
  },
  {
   "cell_type": "code",
   "execution_count": 90,
   "metadata": {},
   "outputs": [],
   "source": [
    "import matplotlib.pyplot as plt\n",
    "\n",
    "def show_plot(a, b):\n",
    "    fig, ax = plt.subplots(figsize=(16,8))\n",
    "    x = list(words_frequences.keys())[a:b]\n",
    "    y = list( words_frequences.values())[a:b]\n",
    "    ax.bar(range(len(x)), y)\n",
    "    ax.set_xticks(range(len(x)))\n",
    "    ax.set_xticklabels(x, rotation='vertical')\n",
    "    ax.set_title('Words frequences (excluding stop words)')\n",
    "    ax.set_xlabel('Word');\n",
    "    ax.set_ylabel('Number of occurences');\n",
    "    plt.show()"
   ]
  },
  {
   "cell_type": "code",
   "execution_count": 91,
   "metadata": {},
   "outputs": [
    {
     "data": {
      "image/png": "[encoded data removed]",
      "text/plain": [
       "<Figure size 1152x576 with 1 Axes>"
      ]
     },
     "metadata": {
      "needs_background": "light"
     },
     "output_type": "display_data"
    }
   ],
   "source": [
    "show_plot(0, 18)"
   ]
  },
  {
   "cell_type": "code",
   "execution_count": 92,
   "metadata": {},
   "outputs": [],
   "source": [
    "number_of_docs =  len(data.columns)\n",
    "upper_percent = 50\n",
    "lower_percent = 2"
   ]
  },
  {
   "cell_type": "code",
   "execution_count": 93,
   "metadata": {},
   "outputs": [],
   "source": [
    "remove_words = set()"
   ]
  },
  {
   "cell_type": "code",
   "execution_count": 94,
   "metadata": {},
   "outputs": [],
   "source": [
    "for word in words_frequences.keys():\n",
    "    if words_frequences[word] >= number_of_docs * upper_percent / 100 or words_frequences[word] <= number_of_docs * lower_percent / 100:\n",
    "        remove_words.add(word)"
   ]
  },
  {
   "cell_type": "code",
   "execution_count": 98,
   "metadata": {},
   "outputs": [
    {
     "data": {
      "text/plain": [
       "5189"
      ]
     },
     "execution_count": 98,
     "metadata": {},
     "output_type": "execute_result"
    }
   ],
   "source": [
    "len(remove_words)"
   ]
  },
  {
   "cell_type": "code",
   "execution_count": 96,
   "metadata": {},
   "outputs": [
    {
     "data": {
      "text/plain": [
       "5700"
      ]
     },
     "execution_count": 96,
     "metadata": {},
     "output_type": "execute_result"
    }
   ],
   "source": [
    "len(vocab2)"
   ]
  },
  {
   "cell_type": "code",
   "execution_count": 97,
   "metadata": {},
   "outputs": [],
   "source": [
    "remove_words.update(adjectives)"
   ]
  },
  {
   "cell_type": "code",
   "execution_count": 100,
   "metadata": {},
   "outputs": [],
   "source": [
    "tokenized_docs_save = tokenized_docs.copy()"
   ]
  },
  {
   "cell_type": "code",
   "execution_count": 101,
   "metadata": {},
   "outputs": [
    {
     "data": {
      "text/plain": [
       "0      [technique, depth, robustness, speed, research...\n",
       "1      [system, development, imaging, solution, value...\n",
       "2      [paper_novel, consistency, region, medical_ima...\n",
       "3      [consistency, training, framework, result, med...\n",
       "4      [perception, situation, environment, detection...\n",
       "                             ...                        \n",
       "995    [medical_image_segmentation, diagnosis, applic...\n",
       "996    [stage, task, contrast, tissue, paper_novel, c...\n",
       "997    [segmentation_task, system, accuracy, object, ...\n",
       "998    [shot, support, technique, semantic_image_segm...\n",
       "999    [semantic_image_segmentation, recognition, seg...\n",
       "Name: summaries, Length: 1000, dtype: object"
      ]
     },
     "execution_count": 101,
     "metadata": {},
     "output_type": "execute_result"
    }
   ],
   "source": [
    "for i in range(len(tokenized_docs)):\n",
    "    for j in remove_words:\n",
    "        tokenized_docs[i] = list(filter(lambda a: a != j, tokenized_docs[i]))\n",
    "tokenized_docs"
   ]
  },
  {
   "cell_type": "code",
   "execution_count": 113,
   "metadata": {},
   "outputs": [],
   "source": [
    "num_of_topics = 25"
   ]
  },
  {
   "cell_type": "code",
   "execution_count": 104,
   "metadata": {},
   "outputs": [],
   "source": [
    "from gensim.models import LdaModel\n",
    "from gensim.corpora import Dictionary"
   ]
  },
  {
   "cell_type": "code",
   "execution_count": 108,
   "metadata": {},
   "outputs": [],
   "source": [
    "dictionary = Dictionary(tokenized_docs)\n",
    "corpus = [dictionary.doc2bow(text) for text in tokenized_docs]"
   ]
  },
  {
   "cell_type": "code",
   "execution_count": 114,
   "metadata": {},
   "outputs": [],
   "source": [
    "lda_model = LdaModel(corpus=corpus, num_topics=num_of_topics, passes=40,\n",
    "                                            iterations=300, \n",
    "                                            chunksize = 50, id2word=dictionary) "
   ]
  },
  {
   "cell_type": "code",
   "execution_count": 115,
   "metadata": {},
   "outputs": [
    {
     "data": {
      "text/plain": [
       "[(9,\n",
       "  '0.093*\"object\" + 0.038*\"number\" + 0.038*\"algorithm\" + 0.038*\"study\" + 0.033*\"problem\" + 0.029*\"set\" + 0.027*\"optimization\" + 0.025*\"step\" + 0.025*\"use\" + 0.024*\"evaluation\"'),\n",
       " (16,\n",
       "  '0.150*\"mask\" + 0.101*\"background\" + 0.068*\"instance\" + 0.066*\"foreground\" + 0.060*\"camera\" + 0.058*\"element\" + 0.054*\"amount\" + 0.047*\"augmentation\" + 0.046*\"position\" + 0.043*\"environment\"'),\n",
       " (15,\n",
       "  '0.272*\"train\" + 0.121*\"gradient\" + 0.111*\"test\" + 0.107*\"input_image\" + 0.099*\"effort\" + 0.064*\"shift\" + 0.061*\"meta\" + 0.057*\"statistic\" + 0.031*\"performance\" + 0.014*\"unlabeled_data\"'),\n",
       " (5,\n",
       "  '0.076*\"analysis\" + 0.070*\"cost\" + 0.067*\"accuracy\" + 0.066*\"deep_learning\" + 0.064*\"detection\" + 0.062*\"function\" + 0.059*\"task\" + 0.058*\"classification\" + 0.051*\"technique\" + 0.040*\"recognition\"'),\n",
       " (2,\n",
       "  '0.275*\"error\" + 0.270*\"sample\" + 0.093*\"translation\" + 0.091*\"reconstruction\" + 0.060*\"g\" + 0.053*\"detail\" + 0.047*\"number\" + 0.036*\"attack\" + 0.028*\"training\" + 0.005*\"accuracy\"'),\n",
       " (19,\n",
       "  '0.202*\"attention\" + 0.102*\"filter\" + 0.087*\"complexity\" + 0.081*\"self\" + 0.065*\"modeling\" + 0.065*\"pair\" + 0.053*\"idea\" + 0.049*\"relation\" + 0.048*\"pyramid\" + 0.048*\"dependency\"'),\n",
       " (7,\n",
       "  '0.091*\"problem\" + 0.071*\"graph\" + 0.062*\"patch\" + 0.047*\"algorithm\" + 0.046*\"time\" + 0.044*\"memory\" + 0.039*\"result\" + 0.037*\"application\" + 0.037*\"variation\" + 0.031*\"framework\"'),\n",
       " (13,\n",
       "  '0.074*\"user\" + 0.062*\"information\" + 0.053*\"time\" + 0.050*\"neural_network\" + 0.045*\"estimation\" + 0.043*\"way\" + 0.043*\"ground_truth\" + 0.042*\"interaction\" + 0.038*\"input\" + 0.036*\"flow\"'),\n",
       " (0,\n",
       "  '0.158*\"algorithm\" + 0.096*\"value\" + 0.079*\"lesion\" + 0.068*\"supervision\" + 0.061*\"process\" + 0.057*\"consistency\" + 0.054*\"signal\" + 0.051*\"end\" + 0.050*\"appearance\" + 0.048*\"need\"'),\n",
       " (11,\n",
       "  '0.275*\"class\" + 0.182*\"representation\" + 0.112*\"clustering\" + 0.061*\"iou\" + 0.051*\"paper_present\" + 0.044*\"regularization\" + 0.038*\"information\" + 0.037*\"space\" + 0.030*\"fps\" + 0.028*\"feature\"'),\n",
       " (3,\n",
       "  '0.123*\"task\" + 0.081*\"system\" + 0.068*\"framework\" + 0.049*\"point\" + 0.036*\"transfer\" + 0.035*\"performance\" + 0.034*\"architecture\" + 0.031*\"challenge\" + 0.029*\"design\" + 0.028*\"generalization\"'),\n",
       " (10,\n",
       "  '0.002*\"localization\" + 0.002*\"registration\" + 0.002*\"relationship\" + 0.002*\"signal\" + 0.002*\"skin\" + 0.002*\"direction\" + 0.002*\"landmark\" + 0.002*\"end_end\" + 0.002*\"evaluation\" + 0.002*\"number\"'),\n",
       " (23,\n",
       "  '0.190*\"solution\" + 0.084*\"registration\" + 0.069*\"localization\" + 0.062*\"semantic_image_segmentation\" + 0.052*\"group\" + 0.045*\"limitation\" + 0.044*\"direction\" + 0.041*\"landmark\" + 0.038*\"progress\" + 0.038*\"learning\"'),\n",
       " (20,\n",
       "  '0.284*\"layer\" + 0.103*\"convolution\" + 0.083*\"operation\" + 0.054*\"decoder\" + 0.054*\"encoder\" + 0.040*\"encoder_decoder\" + 0.038*\"impact\" + 0.038*\"block\" + 0.036*\"vision\" + 0.033*\"medical_image_segmentation\"'),\n",
       " (8,\n",
       "  '0.143*\"feature\" + 0.099*\"architecture\" + 0.067*\"module\" + 0.059*\"u_net\" + 0.040*\"fusion\" + 0.037*\"information\" + 0.037*\"connection\" + 0.031*\"level\" + 0.028*\"performance\" + 0.026*\"state_art\"'),\n",
       " (17,\n",
       "  '0.059*\"convolutional_neural_network\" + 0.047*\"semantic_segmentation\" + 0.046*\"term\" + 0.043*\"field\" + 0.041*\"accuracy\" + 0.035*\"scene\" + 0.033*\"resolution\" + 0.033*\"application\" + 0.033*\"disease\" + 0.030*\"computer_vision\"'),\n",
       " (18,\n",
       "  '0.002*\"localization\" + 0.002*\"registration\" + 0.002*\"relationship\" + 0.002*\"signal\" + 0.002*\"skin\" + 0.002*\"direction\" + 0.002*\"landmark\" + 0.002*\"end_end\" + 0.002*\"evaluation\" + 0.002*\"number\"'),\n",
       " (22,\n",
       "  '0.128*\"parameter\" + 0.118*\"process\" + 0.074*\"output\" + 0.054*\"training\" + 0.051*\"space\" + 0.043*\"inference\" + 0.043*\"show\" + 0.039*\"state_art\" + 0.037*\"classifier\" + 0.035*\"view\"'),\n",
       " (1,\n",
       "  '0.148*\"source\" + 0.131*\"stage\" + 0.123*\"target\" + 0.116*\"distribution\" + 0.077*\"probability\" + 0.075*\"domain_adaptation\" + 0.052*\"inter\" + 0.051*\"k\" + 0.036*\"paper\" + 0.031*\"target_domain\"'),\n",
       " (21,\n",
       "  '0.002*\"localization\" + 0.002*\"registration\" + 0.002*\"relationship\" + 0.002*\"signal\" + 0.002*\"skin\" + 0.002*\"direction\" + 0.002*\"landmark\" + 0.002*\"end_end\" + 0.002*\"evaluation\" + 0.002*\"number\"')]"
      ]
     },
     "execution_count": 115,
     "metadata": {},
     "output_type": "execute_result"
    }
   ],
   "source": [
    "lda_model.print_topics()"
   ]
  },
  {
   "cell_type": "code",
   "execution_count": 111,
   "metadata": {},
   "outputs": [],
   "source": [
    "n_doc = len(corpus)\n",
    "vec_lda = np.zeros((n_doc, num_of_topics))\n",
    "for i in range(len(corpus)):\n",
    "    for topic, prob in lda_model.get_document_topics(corpus[i]):\n",
    "        vec_lda[i, topic] = prob"
   ]
  },
  {
   "cell_type": "code",
   "execution_count": 116,
   "metadata": {},
   "outputs": [
    {
     "data": {
      "text/plain": [
       "array([[0.        , 0.        , 0.03827201, ..., 0.        , 0.        ,\n",
       "        0.04305645],\n",
       "       [0.        , 0.        , 0.        , ..., 0.        , 0.        ,\n",
       "        0.        ],\n",
       "       [0.        , 0.        , 0.        , ..., 0.10660218, 0.11060045,\n",
       "        0.05537587],\n",
       "       ...,\n",
       "       [0.06611469, 0.        , 0.03229116, ..., 0.        , 0.16914438,\n",
       "        0.12984581],\n",
       "       [0.05440054, 0.        , 0.        , ..., 0.        , 0.        ,\n",
       "        0.06005869],\n",
       "       [0.        , 0.        , 0.        , ..., 0.        , 0.        ,\n",
       "        0.16622631]])"
      ]
     },
     "execution_count": 116,
     "metadata": {},
     "output_type": "execute_result"
    }
   ],
   "source": [
    "vec_lda"
   ]
  }
 ],
 "metadata": {
  "kernelspec": {
   "display_name": "Python 3.9.2 64-bit",
   "language": "python",
   "name": "python3"
  },
  "language_info": {
   "codemirror_mode": {
    "name": "ipython",
    "version": 3
   },
   "file_extension": ".py",
   "mimetype": "text/x-python",
   "name": "python",
   "nbconvert_exporter": "python",
   "pygments_lexer": "ipython3",
   "version": "3.9.2"
  },
  "orig_nbformat": 4,
  "vscode": {
   "interpreter": {
    "hash": "91e1a9e4a06db3fded7ac69e2bfb6fa7fbfde494fec706270786ebdcaf742302"
   }
  }
 },
 "nbformat": 4,
 "nbformat_minor": 2
}
